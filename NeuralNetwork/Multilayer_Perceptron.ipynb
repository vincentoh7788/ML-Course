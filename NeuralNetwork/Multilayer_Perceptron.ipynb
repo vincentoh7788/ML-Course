{
  "nbformat": 4,
  "nbformat_minor": 0,
  "metadata": {
    "colab": {
      "provenance": []
    },
    "kernelspec": {
      "name": "python3",
      "display_name": "Python 3"
    },
    "language_info": {
      "name": "python"
    }
  },
  "cells": [
    {
      "cell_type": "code",
      "execution_count": null,
      "metadata": {
        "id": "CTX7QaOpu_VC"
      },
      "outputs": [],
      "source": [
        "#import libraries\n",
        "from random import seed\n",
        "from random import randrange\n",
        "from random import random\n",
        "from csv import reader\n",
        "from math import exp"
      ]
    },
    {
      "cell_type": "markdown",
      "source": [
        "## **1. Implement Back Propagation Based on Book 1**"
      ],
      "metadata": {
        "id": "mW0UGq1LrZop"
      }
    },
    {
      "cell_type": "code",
      "source": [
        "# Initialize a network\n",
        "def initialize_network(n_inputs, n_hidden, n_outputs):\n",
        "  network = list()\n",
        "  hidden_layer = [{ 'weights' :[random() for i in range(n_inputs + 1)]} for i in range(n_hidden)]\n",
        "  network.append(hidden_layer)\n",
        "  output_layer = [{ 'weights' :[random() for i in range(n_hidden + 1)]} for i in range(n_outputs)]\n",
        "  network.append(output_layer)\n",
        "  return network"
      ],
      "metadata": {
        "id": "oaZLncFmvtPA"
      },
      "execution_count": null,
      "outputs": []
    },
    {
      "cell_type": "code",
      "source": [
        "# Example of initializing a network\n",
        "# Test initializing a network\n",
        "seed(1)\n",
        "network = initialize_network(2, 1, 2)\n",
        "for layer in network:\n",
        "  print(layer)"
      ],
      "metadata": {
        "colab": {
          "base_uri": "https://localhost:8080/"
        },
        "id": "ElXQTpKgvfb7",
        "outputId": "0aa1b47c-e6c4-4b8b-e03c-a819260aa42f"
      },
      "execution_count": null,
      "outputs": [
        {
          "output_type": "stream",
          "name": "stdout",
          "text": [
            "[{'weights': [0.13436424411240122, 0.8474337369372327, 0.763774618976614]}]\n",
            "[{'weights': [0.2550690257394217, 0.49543508709194095]}, {'weights': [0.4494910647887381, 0.651592972722763]}]\n"
          ]
        }
      ]
    },
    {
      "cell_type": "code",
      "source": [
        "# Calculate neuron activation for an input\n",
        "def activate(weights, inputs):\n",
        "  activation = weights[-1]\n",
        "  for i in range(len(weights)-1):\n",
        "    activation += weights[i] * inputs[i]\n",
        "  return activation\n",
        "\n",
        "def transfer(activation):\n",
        "  return 1.0 / (1.0 + exp(-activation))"
      ],
      "metadata": {
        "id": "lWotI7EtweU5"
      },
      "execution_count": null,
      "outputs": []
    },
    {
      "cell_type": "code",
      "source": [
        "# Forward propagate input to a network output\n",
        "def forward_propagate(network, row):\n",
        "  inputs = row\n",
        "  for layer in network:\n",
        "    new_inputs = []\n",
        "    for neuron in layer:\n",
        "      activation = activate(neuron['weights'], inputs)\n",
        "      neuron['output'] = transfer(activation)\n",
        "      new_inputs.append(neuron['output'])\n",
        "    inputs = new_inputs\n",
        "  return inputs"
      ],
      "metadata": {
        "id": "1_NobFjbwupO"
      },
      "execution_count": null,
      "outputs": []
    },
    {
      "cell_type": "code",
      "source": [
        "# test forward propagation(Find output to calculate error)\n",
        "\n",
        "network = [[{ 'weights' : [0.13436424411240122, 0.8474337369372327, 0.763774618976614]}],\n",
        " [{ 'weights' : [0.2550690257394217, 0.49543508709194095]}, { 'weights' :\n",
        "[0.4494910647887381, 0.651592972722763]}]]\n",
        "row = [1, 0, None]\n",
        "output = forward_propagate(network, row)\n",
        "print(output)"
      ],
      "metadata": {
        "colab": {
          "base_uri": "https://localhost:8080/"
        },
        "id": "LkF1siKhxQw9",
        "outputId": "a76f68c8-eabf-43e0-9b26-4619f76ee311"
      },
      "execution_count": null,
      "outputs": [
        {
          "output_type": "stream",
          "name": "stdout",
          "text": [
            "[0.6629970129852887, 0.7253160725279748]\n"
          ]
        }
      ]
    },
    {
      "cell_type": "code",
      "source": [
        "# Calculate the derivative of an neuron output\n",
        "def transfer_derivative(output):\n",
        "  return output * (1.0 - output)"
      ],
      "metadata": {
        "id": "jCZHCNC8xu-W"
      },
      "execution_count": null,
      "outputs": []
    },
    {
      "cell_type": "code",
      "source": [
        "# Backpropagate error and store in neurons\n",
        "def backward_propagate_error(network, expected):\n",
        "  for i in reversed(range(len(network))):\n",
        "    layer = network[i]\n",
        "    errors = list()\n",
        "    if i != len(network)-1:\n",
        "      for j in range(len(layer)):\n",
        "        error = 0.0\n",
        "        for neuron in network[i + 1]:\n",
        "          error += (neuron['weights'][j] * neuron['delta'])\n",
        "        errors.append(error)\n",
        "    else:\n",
        "      for j in range(len(layer)):\n",
        "        neuron = layer[j]\n",
        "        errors.append(expected[j] - neuron['output'])\n",
        "    for j in range(len(layer)):\n",
        "      neuron = layer[j]\n",
        "      neuron['delta'] = errors[j] * transfer_derivative(neuron['output'])\n"
      ],
      "metadata": {
        "id": "R4fJGaK5x3V2"
      },
      "execution_count": null,
      "outputs": []
    },
    {
      "cell_type": "code",
      "source": [
        "# test backpropagation of error (Find delta)\n",
        "network = [[{'output': 0.7105668883115941, 'weights' : [0.13436424411240122,\n",
        "0.8474337369372327, 0.763774618976614]}],\n",
        "[{'output' : 0.6213859615555266, 'weights' : [0.2550690257394217, 0.49543508709194095]},\n",
        "{ 'output' : 0.6573693455986976, 'weights' : [0.4494910647887381, 0.651592972722763]}]]\n",
        "expected = [0, 1]\n",
        "backward_propagate_error(network, expected)\n",
        "for layer in network:\n",
        "  print(layer)"
      ],
      "metadata": {
        "colab": {
          "base_uri": "https://localhost:8080/"
        },
        "id": "parZ0Up3yx94",
        "outputId": "4486a32f-73bd-47d3-9277-6361e5e87735"
      },
      "execution_count": null,
      "outputs": [
        {
          "output_type": "stream",
          "name": "stdout",
          "text": [
            "[{'output': 0.7105668883115941, 'weights': [0.13436424411240122, 0.8474337369372327, 0.763774618976614], 'delta': -0.0005348048046610517}]\n",
            "[{'output': 0.6213859615555266, 'weights': [0.2550690257394217, 0.49543508709194095], 'delta': -0.14619064683582808}, {'output': 0.6573693455986976, 'weights': [0.4494910647887381, 0.651592972722763], 'delta': 0.0771723774346327}]\n"
          ]
        }
      ]
    },
    {
      "cell_type": "code",
      "source": [
        "# Update network weights with error\n",
        "def update_weights(network, row, l_rate):\n",
        "  for i in range(len(network)):\n",
        "    inputs = row[:-1]\n",
        "    if i != 0:\n",
        "      inputs = [neuron['output'] for neuron in network[i - 1]]\n",
        "    for neuron in network[i]:\n",
        "      for j in range(len(inputs)):\n",
        "        neuron['weights'][j] += l_rate * neuron['delta'] * inputs[j]\n",
        "      neuron['weights'][-1] += l_rate * neuron['delta']"
      ],
      "metadata": {
        "id": "uxIWDgmCzhu3"
      },
      "execution_count": null,
      "outputs": []
    },
    {
      "cell_type": "code",
      "source": [
        "#Train network with number of epochs\n",
        "def train_network(network, train, l_rate, n_epoch, n_outputs):\n",
        "  for epoch in range(n_epoch):\n",
        "    sum_error = 0\n",
        "    for row in train:\n",
        "      outputs = forward_propagate(network, row)\n",
        "      expected = [0 for i in range(n_outputs)]\n",
        "      expected[row[-1]] = 1\n",
        "      sum_error += sum([(expected[i]-outputs[i])**2 for i in range(len(expected))])\n",
        "      backward_propagate_error(network, expected)\n",
        "      update_weights(network, row, l_rate)\n"
      ],
      "metadata": {
        "id": "wTYvzelszUQm"
      },
      "execution_count": null,
      "outputs": []
    },
    {
      "cell_type": "code",
      "source": [
        "# Test training backprop algorithm(Overall)\n",
        "seed(1)\n",
        "dataset = [[2.7810836,2.550537003,0],\n",
        "[1.465489372,2.362125076,0],\n",
        "[3.396561688,4.400293529,0],\n",
        "[1.38807019,1.850220317,0],\n",
        "[3.06407232,3.005305973,0],\n",
        "[7.627531214,2.759262235,1],\n",
        "[5.332441248,2.088626775,1],\n",
        "[6.922596716,1.77106367,1],\n",
        "[8.675418651,-0.242068655,1],\n",
        "[7.673756466,3.508563011,1]]\n",
        "n_inputs = len(dataset[0]) - 1\n",
        "n_outputs = len(set([row[-1] for row in dataset]))\n",
        "network = initialize_network(n_inputs, 2, n_outputs)\n",
        "train_network(network, dataset, 0.5, 20, n_outputs)\n",
        "for layer in network:\n",
        "  print(layer)"
      ],
      "metadata": {
        "colab": {
          "base_uri": "https://localhost:8080/"
        },
        "id": "Vpl6tEIP0gud",
        "outputId": "d9ce9877-710f-4f22-be36-f4e1f3ed9bf0"
      },
      "execution_count": null,
      "outputs": [
        {
          "output_type": "stream",
          "name": "stdout",
          "text": [
            "[{'weights': [-1.4688375095432327, 1.850887325439514, 1.0858178629550297], 'output': 0.029980305604426185, 'delta': -0.0059546604162323625}, {'weights': [0.37711098142462157, -0.0625909894552989, 0.2765123702642716], 'output': 0.9456229000211323, 'delta': 0.0026279652850863837}]\n",
            "[{'weights': [2.515394649397849, -0.3391927502445985, -0.9671565426390275], 'output': 0.23648794202357587, 'delta': -0.04270059278364587}, {'weights': [-2.5584149848484263, 1.0036422106209202, 0.42383086467582715], 'output': 0.7790535202438367, 'delta': 0.03803132596437354}]\n"
          ]
        }
      ]
    },
    {
      "cell_type": "code",
      "source": [
        "# Make a prediction with a network\n",
        "def predict(network, row):\n",
        "  outputs = forward_propagate(network, row)\n",
        "  return outputs.index(max(outputs))"
      ],
      "metadata": {
        "id": "Ej31rqpR0rNn"
      },
      "execution_count": null,
      "outputs": []
    },
    {
      "cell_type": "code",
      "source": [
        "# Test making predictions with the network\n",
        "dataset = [[2.7810836,2.550537003,0],\n",
        "[1.465489372,2.362125076,0],\n",
        "[3.396561688,4.400293529,0],\n",
        "[1.38807019,1.850220317,0],\n",
        "[3.06407232,3.005305973,0],\n",
        "[7.627531214,2.759262235,1],\n",
        "[5.332441248,2.088626775,1],\n",
        "[6.922596716,1.77106367,1],\n",
        "[8.675418651,-0.242068655,1],\n",
        "[7.673756466,3.508563011,1]]\n",
        "network = [[{'weights': [-1.482313569067226, 1.8308790073202204, 1.078381922048799]},\n",
        "{'weights': [0.23244990332399884, 0.3621998343835864, 0.40289821191094327]}],\n",
        "[{'weights' : [2.5001872433501404, 0.7887233511355132, -1.1026649757805829]}, { 'weights' :\n",
        "[-2.429350576245497, 0.8357651039198697, 1.0699217181280656]}]]\n",
        "for row in dataset:\n",
        "  prediction = predict(network, row)\n",
        "  print('Expected=%d, Got=%d' % (row[-1], prediction))"
      ],
      "metadata": {
        "colab": {
          "base_uri": "https://localhost:8080/"
        },
        "id": "ZjEm1jTVELlf",
        "outputId": "8a87d3ee-4359-44ed-df95-42d150d434da"
      },
      "execution_count": null,
      "outputs": [
        {
          "output_type": "stream",
          "name": "stdout",
          "text": [
            "Expected=0, Got=0\n",
            "Expected=0, Got=0\n",
            "Expected=0, Got=0\n",
            "Expected=0, Got=0\n",
            "Expected=0, Got=0\n",
            "Expected=1, Got=1\n",
            "Expected=1, Got=1\n",
            "Expected=1, Got=1\n",
            "Expected=1, Got=1\n",
            "Expected=1, Got=1\n"
          ]
        }
      ]
    },
    {
      "cell_type": "code",
      "source": [
        "def load_csv(filename):\n",
        "  dataset = list()\n",
        "  with open(filename, 'r' ) as file:\n",
        "    csv_reader = reader(file)\n",
        "    for row in csv_reader:\n",
        "      if not row:\n",
        "        continue\n",
        "      dataset.append(row)\n",
        "  return dataset\n",
        "\n",
        "# Convert string column to float\n",
        "def str_column_to_float(dataset, column):\n",
        "  for row in dataset:\n",
        "    row[column] = float(row[column].strip())\n",
        "# Convert string column to integer\n",
        "def str_column_to_int(dataset, column):\n",
        "  class_values = [row[column] for row in dataset]\n",
        "  unique = set(class_values)\n",
        "  lookup = dict()\n",
        "  for i, value in enumerate(unique):\n",
        "    lookup[value] = i\n",
        "  for row in dataset:\n",
        "    row[column] = lookup[row[column]]\n",
        "  return lookup"
      ],
      "metadata": {
        "id": "mtMo_O7WEcGZ"
      },
      "execution_count": null,
      "outputs": []
    },
    {
      "cell_type": "code",
      "source": [
        "# Find the min and max values for each column\n",
        "def dataset_minmax(dataset):\n",
        "  return [[min(column), max(column)] for column in zip(*dataset)]\n",
        "\n",
        "# Rescale dataset columns to the range 0-1\n",
        "def normalize_dataset(dataset, minmax):\n",
        "  for row in dataset:\n",
        "    for i in range(len(row)-1):\n",
        "      row[i] = (row[i] - minmax[i][0]) / (minmax[i][1] - minmax[i][0])\n",
        "\n",
        "# Split a dataset into k folds\n",
        "def cross_validation_split(dataset, n_folds):\n",
        "  dataset_split = list()\n",
        "  dataset_copy = list(dataset)\n",
        "  fold_size = int(len(dataset) / n_folds)\n",
        "  for _ in range(n_folds):\n",
        "    fold = list()\n",
        "    while len(fold) < fold_size:\n",
        "      index = randrange(len(dataset_copy))\n",
        "      fold.append(dataset_copy.pop(index))\n",
        "    dataset_split.append(fold)\n",
        "  return dataset_split\n",
        "\n",
        "# Calculate accuracy percentage\n",
        "def accuracy_metric(actual, predicted):\n",
        "  correct = 0\n",
        "  for i in range(len(actual)):\n",
        "    if actual[i] == predicted[i]:\n",
        "      correct += 1\n",
        "  return correct / float(len(actual)) * 100.0\n",
        "# Evaluate an algorithm using a cross validation split\n",
        "def evaluate_algorithm(dataset, algorithm, n_folds, *args):\n",
        "  folds = cross_validation_split(dataset, n_folds)\n",
        "  scores = list()\n",
        "  for fold in folds:\n",
        "    train_set = list(folds)\n",
        "    train_set.remove(fold)\n",
        "    train_set = sum(train_set, [])\n",
        "    test_set = list()\n",
        "    for row in fold:\n",
        "      row_copy = list(row)\n",
        "      test_set.append(row_copy)\n",
        "      row_copy[-1] = None\n",
        "    predicted = algorithm(train_set, test_set, *args)\n",
        "    actual = [row[-1] for row in fold]\n",
        "    accuracy = accuracy_metric(actual, predicted)\n",
        "    scores.append(accuracy)\n",
        "  return scores"
      ],
      "metadata": {
        "id": "aS1ecM7bFLg9"
      },
      "execution_count": null,
      "outputs": []
    },
    {
      "cell_type": "code",
      "source": [
        "#Algorithm\n",
        "def back_propagation(train, test, l_rate, n_epoch, n_hidden):\n",
        "  n_inputs = len(train[0]) - 1\n",
        "  n_outputs = len(set([row[-1] for row in train]))\n",
        "  network = initialize_network(n_inputs, n_hidden, n_outputs)\n",
        "  train_network(network, train, l_rate, n_epoch, n_outputs)\n",
        "  predictions = list()\n",
        "  for row in test:\n",
        "    prediction = predict(network, row)\n",
        "    predictions.append(prediction)\n",
        "  return(predictions)"
      ],
      "metadata": {
        "id": "tJ8WgRr0Ivi-"
      },
      "execution_count": null,
      "outputs": []
    },
    {
      "cell_type": "code",
      "source": [
        "# Test Backprop on Seeds dataset\n",
        "seed(1)\n",
        "# load and prepare data\n",
        "filename = 'seeds_dataset.csv'\n",
        "dataset = load_csv(filename)\n",
        "for i in range(len(dataset[0])-1):\n",
        "  str_column_to_float(dataset, i)\n",
        "\n",
        "# convert class column to integers\n",
        "str_column_to_int(dataset, len(dataset[0])-1)\n",
        "\n",
        "# normalize input variables\n",
        "minmax = dataset_minmax(dataset)\n",
        "normalize_dataset(dataset, minmax)\n",
        "\n",
        "# evaluate algorithm\n",
        "n_folds = 5\n",
        "l_rate = 0.3\n",
        "n_epoch = 500\n",
        "n_hidden = 5\n",
        "scores = evaluate_algorithm(dataset, back_propagation, n_folds, l_rate, n_epoch, n_hidden)\n",
        "print('Scores: %s' % scores)\n",
        "print('Mean Accuracy: %.3f%%' % (sum(scores)/float(len(scores))))"
      ],
      "metadata": {
        "colab": {
          "base_uri": "https://localhost:8080/"
        },
        "id": "oJY5HLUjI499",
        "outputId": "ca484203-e33a-4185-a328-ea1f6a2d1f57"
      },
      "execution_count": null,
      "outputs": [
        {
          "output_type": "stream",
          "name": "stdout",
          "text": [
            "Scores: [92.85714285714286, 92.85714285714286, 97.61904761904762, 92.85714285714286, 90.47619047619048]\n",
            "Mean Accuracy: 93.333%\n"
          ]
        }
      ]
    },
    {
      "cell_type": "code",
      "source": [
        "# Tuning 1\n",
        "l_rate = 0.1\n",
        "n_epoch = 500\n",
        "scores = evaluate_algorithm(dataset, back_propagation, n_folds, l_rate, n_epoch, n_hidden)\n",
        "print('Scores: %s' % scores)\n",
        "print('Mean Accuracy: %.3f%%' % (sum(scores)/float(len(scores))))"
      ],
      "metadata": {
        "colab": {
          "base_uri": "https://localhost:8080/"
        },
        "id": "cyWIBJaA4kO6",
        "outputId": "a226ec92-42be-4b0a-ab4d-235abf8cb36d"
      },
      "execution_count": null,
      "outputs": [
        {
          "output_type": "stream",
          "name": "stdout",
          "text": [
            "Scores: [95.23809523809523, 92.85714285714286, 95.23809523809523, 92.85714285714286, 92.85714285714286]\n",
            "Mean Accuracy: 93.810%\n"
          ]
        }
      ]
    },
    {
      "cell_type": "code",
      "source": [
        "# Tuning 2\n",
        "l_rate = 0.1\n",
        "n_epoch = 600\n",
        "scores = evaluate_algorithm(dataset, back_propagation, n_folds, l_rate, n_epoch, n_hidden)\n",
        "print('Scores: %s' % scores)\n",
        "print('Mean Accuracy: %.3f%%' % (sum(scores)/float(len(scores))))"
      ],
      "metadata": {
        "colab": {
          "base_uri": "https://localhost:8080/"
        },
        "id": "GF89dVxh5uRk",
        "outputId": "b863f09d-1a20-4b9a-f073-4b32837604c9"
      },
      "execution_count": null,
      "outputs": [
        {
          "output_type": "stream",
          "name": "stdout",
          "text": [
            "Scores: [95.23809523809523, 90.47619047619048, 95.23809523809523, 92.85714285714286, 95.23809523809523]\n",
            "Mean Accuracy: 93.810%\n"
          ]
        }
      ]
    },
    {
      "cell_type": "code",
      "source": [
        "# Tuning 3\n",
        "l_rate = 0.05\n",
        "n_epoch = 500\n",
        "scores = evaluate_algorithm(dataset, back_propagation, n_folds, l_rate, n_epoch, n_hidden)\n",
        "print('Scores: %s' % scores)\n",
        "print('Mean Accuracy: %.3f%%' % (sum(scores)/float(len(scores))))"
      ],
      "metadata": {
        "colab": {
          "base_uri": "https://localhost:8080/"
        },
        "id": "eXQzpwAn6PM6",
        "outputId": "d3f22f2e-8b22-43b9-a12f-248c01d00686"
      },
      "execution_count": null,
      "outputs": [
        {
          "output_type": "stream",
          "name": "stdout",
          "text": [
            "Scores: [95.23809523809523, 95.23809523809523, 90.47619047619048, 90.47619047619048, 92.85714285714286]\n",
            "Mean Accuracy: 92.857%\n"
          ]
        }
      ]
    },
    {
      "cell_type": "code",
      "source": [
        "# Tuning 4\n",
        "l_rate = 0.1\n",
        "n_epoch = 100\n",
        "scores = evaluate_algorithm(dataset, back_propagation, n_folds, l_rate, n_epoch, n_hidden)\n",
        "print('Scores: %s' % scores)\n",
        "print('Mean Accuracy: %.3f%%' % (sum(scores)/float(len(scores))))"
      ],
      "metadata": {
        "colab": {
          "base_uri": "https://localhost:8080/"
        },
        "id": "jG4lqXjg6Z01",
        "outputId": "9a56ed54-d191-4936-baf0-59eb572cb725"
      },
      "execution_count": null,
      "outputs": [
        {
          "output_type": "stream",
          "name": "stdout",
          "text": [
            "Scores: [88.09523809523809, 95.23809523809523, 100.0, 95.23809523809523, 88.09523809523809]\n",
            "Mean Accuracy: 93.333%\n"
          ]
        }
      ]
    }
  ]
}