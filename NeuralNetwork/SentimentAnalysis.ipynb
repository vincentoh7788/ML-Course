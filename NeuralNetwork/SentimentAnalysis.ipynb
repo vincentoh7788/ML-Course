{
  "nbformat": 4,
  "nbformat_minor": 0,
  "metadata": {
    "colab": {
      "provenance": []
    },
    "kernelspec": {
      "name": "python3",
      "display_name": "Python 3"
    },
    "language_info": {
      "name": "python"
    }
  },
  "cells": [
    {
      "cell_type": "code",
      "execution_count": null,
      "metadata": {
        "colab": {
          "base_uri": "https://localhost:8080/"
        },
        "id": "t5cxVI6aBDXK",
        "outputId": "96f8358c-1009-4aee-e9ad-7d9bb4634891"
      },
      "outputs": [
        {
          "output_type": "stream",
          "name": "stdout",
          "text": [
            "Downloading data from https://storage.googleapis.com/tensorflow/tf-keras-datasets/imdb.npz\n",
            "17464789/17464789 [==============================] - 0s 0us/step\n"
          ]
        }
      ],
      "source": [
        "import numpy\n",
        "from keras.datasets import imdb\n",
        "from matplotlib import pyplot\n",
        "# load the dataset\n",
        "(X_train, y_train), (X_test, y_test) = imdb.load_data()\n",
        "X = numpy.concatenate((X_train, X_test), axis=0)\n",
        "y = numpy.concatenate((y_train, y_test), axis=0)"
      ]
    },
    {
      "cell_type": "code",
      "source": [
        "# summarize size\n",
        "print(\"Training data: \")\n",
        "print(X.shape)\n",
        "print(y.shape)"
      ],
      "metadata": {
        "colab": {
          "base_uri": "https://localhost:8080/"
        },
        "id": "iKGl79KlENBr",
        "outputId": "3b87fa0c-22fb-49bc-df53-b4bc23fa7a4f"
      },
      "execution_count": null,
      "outputs": [
        {
          "output_type": "stream",
          "name": "stdout",
          "text": [
            "Training data: \n",
            "(50000,)\n",
            "(50000,)\n"
          ]
        }
      ]
    },
    {
      "cell_type": "code",
      "source": [
        "# Summarize number of classes\n",
        "print(\"Classes: \")\n",
        "print(numpy.unique(y))"
      ],
      "metadata": {
        "colab": {
          "base_uri": "https://localhost:8080/"
        },
        "id": "hQHqixKJEOgq",
        "outputId": "db24584f-9ea8-4ab9-b2fb-cd6691dc51bd"
      },
      "execution_count": null,
      "outputs": [
        {
          "output_type": "stream",
          "name": "stdout",
          "text": [
            "Classes: \n",
            "[0 1]\n"
          ]
        }
      ]
    },
    {
      "cell_type": "code",
      "source": [
        "# Summarize number of words\n",
        "print(\"Number of words: \")\n",
        "print(len(numpy.unique(numpy.hstack(X))))\n"
      ],
      "metadata": {
        "colab": {
          "base_uri": "https://localhost:8080/"
        },
        "id": "msF7JtZPEUT5",
        "outputId": "fa16e9f4-213e-4d27-b0ba-2f5e16bd781d"
      },
      "execution_count": null,
      "outputs": [
        {
          "output_type": "stream",
          "name": "stdout",
          "text": [
            "Number of words: \n",
            "88585\n"
          ]
        }
      ]
    },
    {
      "cell_type": "code",
      "source": [
        "# Summarize review length\n",
        "print(\"Review length: \")\n",
        "result = [len(x) for x in X]\n",
        "print(\"Mean %.2f words (%f)\" % (numpy.mean(result), numpy.std(result)))\n",
        "# plot review length as a boxplot and histogram\n",
        "pyplot.subplot(121)\n",
        "pyplot.boxplot(result)\n",
        "pyplot.subplot(122)\n",
        "pyplot.hist(result)\n",
        "pyplot.show()"
      ],
      "metadata": {
        "colab": {
          "base_uri": "https://localhost:8080/",
          "height": 465
        },
        "id": "2mWYv9hiEcdy",
        "outputId": "ca9aacbc-80e1-4e4f-c02f-c458701afe4e"
      },
      "execution_count": null,
      "outputs": [
        {
          "output_type": "stream",
          "name": "stdout",
          "text": [
            "Review length: \n",
            "Mean 234.76 words (172.911495)\n"
          ]
        },
        {
          "output_type": "display_data",
          "data": {
            "text/plain": [
              "<Figure size 640x480 with 2 Axes>"
            ],
            "image/png": "[encoded data removed]"
          },
          "metadata": {}
        }
      ]
    },
    {
      "cell_type": "code",
      "source": [
        "from keras.models import Sequential\n",
        "from keras.layers import Dense\n",
        "from keras.layers import Flatten\n",
        "from keras.layers import Embedding\n",
        "from keras.utils import pad_sequences\n",
        "seed = 7\n",
        "numpy.random.seed(seed)\n"
      ],
      "metadata": {
        "id": "cM09k3cGEiti"
      },
      "execution_count": null,
      "outputs": []
    },
    {
      "cell_type": "code",
      "source": [
        "# load the dataset but only keep the top n words, zero the rest\n",
        "top_words = 5000\n",
        "(X_train, y_train), (X_test, y_test) = imdb.load_data(num_words=top_words)"
      ],
      "metadata": {
        "id": "vvlTWbooE5dp"
      },
      "execution_count": null,
      "outputs": []
    },
    {
      "cell_type": "code",
      "source": [
        "max_words = 500\n",
        "X_train = pad_sequences(X_train, maxlen=max_words)\n",
        "X_test = pad_sequences(X_test, maxlen=max_words)\n",
        "model = Sequential()\n",
        "model.add(Embedding(top_words, 32, input_length=max_words))\n",
        "model.add(Flatten())\n",
        "model.add(Dense(250, activation= 'relu' ))\n",
        "model.add(Dense(1, activation= 'sigmoid' ))\n",
        "model.compile(loss= 'binary_crossentropy' , optimizer= 'adam' , metrics=['accuracy'])\n",
        "model.summary()"
      ],
      "metadata": {
        "colab": {
          "base_uri": "https://localhost:8080/"
        },
        "id": "NXh3-koxE_hq",
        "outputId": "6a409afb-c72a-450b-991b-9df53c75dda4"
      },
      "execution_count": null,
      "outputs": [
        {
          "output_type": "stream",
          "name": "stdout",
          "text": [
            "Model: \"sequential\"\n",
            "_________________________________________________________________\n",
            " Layer (type)                Output Shape              Param #   \n",
            "=================================================================\n",
            " embedding (Embedding)       (None, 500, 32)           160000    \n",
            "                                                                 \n",
            " flatten (Flatten)           (None, 16000)             0         \n",
            "                                                                 \n",
            " dense (Dense)               (None, 250)               4000250   \n",
            "                                                                 \n",
            " dense_1 (Dense)             (None, 1)                 251       \n",
            "                                                                 \n",
            "=================================================================\n",
            "Total params: 4,160,501\n",
            "Trainable params: 4,160,501\n",
            "Non-trainable params: 0\n",
            "_________________________________________________________________\n"
          ]
        }
      ]
    },
    {
      "cell_type": "code",
      "source": [
        "# Fit the model\n",
        "model.fit(X_train, y_train, validation_data=(X_test, y_test), epochs=2, batch_size=128,\n",
        "verbose=1)\n",
        "# Final evaluation of the model\n",
        "scores = model.evaluate(X_test, y_test, verbose=0)\n",
        "print(\"Accuracy: %.2f%%\" % (scores[1]*100))"
      ],
      "metadata": {
        "colab": {
          "base_uri": "https://localhost:8080/"
        },
        "id": "BAMWtx9TFXzz",
        "outputId": "dde5ef45-3c35-458c-c4d1-898668de855e"
      },
      "execution_count": null,
      "outputs": [
        {
          "output_type": "stream",
          "name": "stdout",
          "text": [
            "Epoch 1/2\n",
            "196/196 [==============================] - 30s 148ms/step - loss: 0.4661 - accuracy: 0.7489 - val_loss: 0.2921 - val_accuracy: 0.8771\n",
            "Epoch 2/2\n",
            "196/196 [==============================] - 29s 147ms/step - loss: 0.1663 - accuracy: 0.9387 - val_loss: 0.3165 - val_accuracy: 0.8713\n",
            "Accuracy: 87.13%\n"
          ]
        }
      ]
    },
    {
      "cell_type": "code",
      "source": [
        "# One-Dimensional Convolutional Neural Network\n",
        "from keras.layers.convolutional import Conv1D\n",
        "from keras.layers.convolutional import MaxPooling1D\n",
        "model2 = Sequential()\n",
        "model2.add(Embedding(top_words, 32, input_length=max_words))\n",
        "model2.add(Conv1D(filters=32, kernel_size=3, padding= 'same' , activation= 'relu' ))\n",
        "model2.add(MaxPooling1D(pool_size=2))\n",
        "model2.add(Flatten())\n",
        "model2.add(Dense(250, activation= 'relu' ))\n",
        "model2.add(Dense(1, activation= 'sigmoid' ))\n",
        "model2.compile(loss= 'binary_crossentropy' , optimizer= 'adam' , metrics=[ 'accuracy' ])\n",
        "model2.summary()"
      ],
      "metadata": {
        "colab": {
          "base_uri": "https://localhost:8080/"
        },
        "id": "H9UPwKjuF9C1",
        "outputId": "317675df-e121-44b4-ea1e-669421d27666"
      },
      "execution_count": null,
      "outputs": [
        {
          "output_type": "stream",
          "name": "stdout",
          "text": [
            "Model: \"sequential_1\"\n",
            "_________________________________________________________________\n",
            " Layer (type)                Output Shape              Param #   \n",
            "=================================================================\n",
            " embedding_1 (Embedding)     (None, 500, 32)           160000    \n",
            "                                                                 \n",
            " conv1d (Conv1D)             (None, 500, 32)           3104      \n",
            "                                                                 \n",
            " max_pooling1d (MaxPooling1D  (None, 250, 32)          0         \n",
            " )                                                               \n",
            "                                                                 \n",
            " flatten_1 (Flatten)         (None, 8000)              0         \n",
            "                                                                 \n",
            " dense_2 (Dense)             (None, 250)               2000250   \n",
            "                                                                 \n",
            " dense_3 (Dense)             (None, 1)                 251       \n",
            "                                                                 \n",
            "=================================================================\n",
            "Total params: 2,163,605\n",
            "Trainable params: 2,163,605\n",
            "Non-trainable params: 0\n",
            "_________________________________________________________________\n"
          ]
        }
      ]
    },
    {
      "cell_type": "code",
      "source": [
        "model2.fit(X_train, y_train, validation_data=(X_test, y_test), epochs=2, batch_size=128,\n",
        "verbose=2)\n",
        "# Final evaluation of the model\n",
        "scores = model2.evaluate(X_test, y_test, verbose=0)\n",
        "print(\"Accuracy: %.2f%%\" % (scores[1]*100))"
      ],
      "metadata": {
        "colab": {
          "base_uri": "https://localhost:8080/"
        },
        "id": "2PxbpnASGiUp",
        "outputId": "c0976ded-a7ce-431e-84a5-d655d782c3ed"
      },
      "execution_count": null,
      "outputs": [
        {
          "output_type": "stream",
          "name": "stdout",
          "text": [
            "Epoch 1/2\n",
            "196/196 - 36s - loss: 0.4541 - accuracy: 0.7528 - val_loss: 0.2723 - val_accuracy: 0.8869 - 36s/epoch - 182ms/step\n",
            "Epoch 2/2\n",
            "196/196 - 35s - loss: 0.2098 - accuracy: 0.9186 - val_loss: 0.2864 - val_accuracy: 0.8814 - 35s/epoch - 176ms/step\n",
            "Accuracy: 88.14%\n"
          ]
        }
      ]
    }
  ]
}