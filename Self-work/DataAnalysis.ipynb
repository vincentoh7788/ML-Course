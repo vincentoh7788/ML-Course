{
  "nbformat": 4,
  "nbformat_minor": 0,
  "metadata": {
    "colab": {
      "provenance": []
    },
    "kernelspec": {
      "name": "python3",
      "display_name": "Python 3"
    },
    "language_info": {
      "name": "python"
    }
  },
  "cells": [
    {
      "cell_type": "code",
      "execution_count": null,
      "metadata": {
        "id": "vbzRbxpuix2_"
      },
      "outputs": [],
      "source": [
        "import pandas as pd\n",
        "import numpy as np\n",
        "import matplotlib.pyplot as plt\n",
        "from sklearn.preprocessing import MinMaxScaler\n",
        "from scipy import stats\n",
        "df = pd.read_csv('income.csv')"
      ]
    },
    {
      "cell_type": "code",
      "source": [
        "df.info()"
      ],
      "metadata": {
        "colab": {
          "base_uri": "https://localhost:8080/"
        },
        "id": "IGtJkqRqltFF",
        "outputId": "f01ec326-7e6c-433b-9ff3-f6bf4f15bc51"
      },
      "execution_count": null,
      "outputs": [
        {
          "output_type": "stream",
          "name": "stdout",
          "text": [
            "<class 'pandas.core.frame.DataFrame'>\n",
            "RangeIndex: 2093 entries, 0 to 2092\n",
            "Data columns (total 2 columns):\n",
            " #   Column  Non-Null Count  Dtype  \n",
            "---  ------  --------------  -----  \n",
            " 0   Main    2093 non-null   float64\n",
            " 1   Sektor  2093 non-null   object \n",
            "dtypes: float64(1), object(1)\n",
            "memory usage: 32.8+ KB\n"
          ]
        }
      ]
    },
    {
      "cell_type": "markdown",
      "source": [
        "**Deal with Numeric Data**"
      ],
      "metadata": {
        "id": "wT4B6xT6S_us"
      }
    },
    {
      "cell_type": "markdown",
      "source": [
        "Clean errors and outliers"
      ],
      "metadata": {
        "id": "GYzMP4PiTG4L"
      }
    },
    {
      "cell_type": "code",
      "source": [
        "#Convert non-numeric to N/A\n",
        "numeric_df = df.apply(pd.to_numeric, errors='coerce')"
      ],
      "metadata": {
        "id": "Riinv0BtQfst"
      },
      "execution_count": null,
      "outputs": []
    },
    {
      "cell_type": "code",
      "source": [
        "print(numeric_df.dtypes)"
      ],
      "metadata": {
        "colab": {
          "base_uri": "https://localhost:8080/"
        },
        "id": "1q_hUHhxSEnP",
        "outputId": "a13ccfdf-be79-4acf-f51c-dcd479d6f8a3"
      },
      "execution_count": null,
      "outputs": [
        {
          "output_type": "stream",
          "name": "stdout",
          "text": [
            "Main Income    float64\n",
            "Side Income    float64\n",
            "dtype: object\n"
          ]
        }
      ]
    },
    {
      "cell_type": "code",
      "source": [
        "print(numeric_df['Main Income'].median())\n",
        "print(numeric_df['Side Income'].mean())"
      ],
      "metadata": {
        "colab": {
          "base_uri": "https://localhost:8080/"
        },
        "id": "efSadGk6Wc98",
        "outputId": "7d1e2514-af3e-46f6-bd3b-64528e7c0f3e"
      },
      "execution_count": null,
      "outputs": [
        {
          "output_type": "stream",
          "name": "stdout",
          "text": [
            "3500.0\n",
            "289.00173439048564\n"
          ]
        }
      ]
    },
    {
      "cell_type": "code",
      "source": [
        "print(numeric_df.isnull().sum())"
      ],
      "metadata": {
        "colab": {
          "base_uri": "https://localhost:8080/"
        },
        "id": "ySQakOSpW_IM",
        "outputId": "297f184f-faf5-46cd-dc77-557b19ab18e4"
      },
      "execution_count": null,
      "outputs": [
        {
          "output_type": "stream",
          "name": "stdout",
          "text": [
            "Main Income    247\n",
            "Side Income     75\n",
            "dtype: int64\n"
          ]
        }
      ]
    },
    {
      "cell_type": "markdown",
      "source": [
        "Median Imputation(Clean error data)"
      ],
      "metadata": {
        "id": "tc4HCQ90W2d1"
      }
    },
    {
      "cell_type": "code",
      "source": [
        "numeric_df['Main Income'].fillna((numeric_df['Main Income'].median()), inplace=True)\n",
        "numeric_df['Side Income'].fillna((numeric_df['Side Income'].mean()), inplace=True)"
      ],
      "metadata": {
        "id": "YaPz204FU7G8"
      },
      "execution_count": null,
      "outputs": []
    },
    {
      "cell_type": "code",
      "source": [
        "print(numeric_df.isnull().sum())"
      ],
      "metadata": {
        "colab": {
          "base_uri": "https://localhost:8080/"
        },
        "id": "FvIMbUF0Wv8p",
        "outputId": "d3dc7c29-c691-4fdb-da14-501e6a4666c2"
      },
      "execution_count": null,
      "outputs": [
        {
          "output_type": "stream",
          "name": "stdout",
          "text": [
            "Main Income    0\n",
            "Side Income    0\n",
            "dtype: int64\n"
          ]
        }
      ]
    },
    {
      "cell_type": "code",
      "source": [
        "numeric_df.to_csv('income_clean.csv')"
      ],
      "metadata": {
        "id": "ftLaDa4mX1mC"
      },
      "execution_count": null,
      "outputs": []
    },
    {
      "cell_type": "code",
      "source": [
        "print(numeric_df['Main Income'].median())\n",
        "print(numeric_df['Side Income'].mean())"
      ],
      "metadata": {
        "colab": {
          "base_uri": "https://localhost:8080/"
        },
        "id": "lgKmQfw2Zloi",
        "outputId": "fcd4f9a3-f0ba-4acf-c4a4-3cb3b58d840e"
      },
      "execution_count": null,
      "outputs": [
        {
          "output_type": "stream",
          "name": "stdout",
          "text": [
            "3500.0\n",
            "289.00173439048564\n"
          ]
        }
      ]
    },
    {
      "cell_type": "markdown",
      "source": [
        "Box Plot (Clean Outliers)"
      ],
      "metadata": {
        "id": "B0a8QM7FW7dl"
      }
    },
    {
      "cell_type": "code",
      "source": [
        "plt.figure(figsize=(4,4))\n",
        "for i, col in enumerate(numeric_df.columns):\n",
        "  numeric_df.boxplot(column = numeric_df.columns[i] )\n",
        "  plt.show()"
      ],
      "metadata": {
        "colab": {
          "base_uri": "https://localhost:8080/",
          "height": 781
        },
        "id": "AWSF1FK2aRhG",
        "outputId": "d7ac96e7-1cf1-4f9d-81fd-4aac6bda7950"
      },
      "execution_count": null,
      "outputs": [
        {
          "output_type": "display_data",
          "data": {
            "text/plain": [
              "<Figure size 400x400 with 1 Axes>"
            ],
            "image/png": "[encoded data removed]"
          },
          "metadata": {}
        },
        {
          "output_type": "display_data",
          "data": {
            "text/plain": [
              "<Figure size 640x480 with 1 Axes>"
            ],
            "image/png": "[encoded data removed]"
          },
          "metadata": {}
        }
      ]
    },
    {
      "cell_type": "markdown",
      "source": [
        "Z-score remove outliers"
      ],
      "metadata": {
        "id": "v6MprTGvfgZO"
      }
    },
    {
      "cell_type": "code",
      "source": [
        "z1 = np.abs(stats.zscore(numeric_df['Pendapatan utama ']))\n",
        "outliers1 = numeric_df[z1 > 3]\n",
        "z2 = np.abs(stats.zscore(numeric_df['Pendapatan sampingan']))\n",
        "outliers2 = numeric_df[z2> 3]\n",
        "print(outliers1)\n",
        "print(outliers2)"
      ],
      "metadata": {
        "colab": {
          "base_uri": "https://localhost:8080/"
        },
        "id": "k_bN3q3fdm4y",
        "outputId": "4ed2568f-978d-4adf-f96c-0aa9e1330ff7"
      },
      "execution_count": null,
      "outputs": [
        {
          "output_type": "stream",
          "name": "stdout",
          "text": [
            "      Pendapatan utama   Pendapatan sampingan\n",
            "135             18000.0                3000.0\n",
            "176             50000.0                   0.0\n",
            "239             30000.0                   0.0\n",
            "295             17000.0                2500.0\n",
            "321             50000.0                   0.0\n",
            "426             19000.0                   0.0\n",
            "444             30000.0                   0.0\n",
            "501             30000.0                2500.0\n",
            "506             20000.0               10000.0\n",
            "619             15700.0                   0.0\n",
            "841             17000.0                   0.0\n",
            "1129            20000.0                   0.0\n",
            "1160            30000.0                5000.0\n",
            "1212            20000.0                   0.0\n",
            "1272            35000.0                   0.0\n",
            "1361            30000.0                   0.0\n",
            "1454            29999.0                   0.0\n",
            "1553            17000.0                   0.0\n",
            "1571            16700.0                2000.0\n",
            "1573            27100.0                   0.0\n",
            "1998            20000.0                   0.0\n",
            "2010            20000.0               10000.0\n",
            "2041            20000.0                5000.0\n",
            "2047            27000.0                3000.0\n",
            "      Pendapatan utama   Pendapatan sampingan\n",
            "72         10000.000000                5000.0\n",
            "118         4800.000000                4500.0\n",
            "141         9700.000000                4000.0\n",
            "173        10000.000000                5000.0\n",
            "209         4498.316779                5000.0\n",
            "212         6000.000000                4009.0\n",
            "240        15000.000000                5000.0\n",
            "275         5000.000000                5000.0\n",
            "300         5000.000000                5000.0\n",
            "392         6000.000000                5000.0\n",
            "447         9517.380000                4000.0\n",
            "506        20000.000000               10000.0\n",
            "707         3300.000000                4700.0\n",
            "921         5000.000000               25000.0\n",
            "966         4498.316779                5000.0\n",
            "1019        4000.000000                5000.0\n",
            "1020        6800.000000                5000.0\n",
            "1054        4498.316779               10000.0\n",
            "1160       30000.000000                5000.0\n",
            "1239        5500.000000               10000.0\n",
            "1284       10000.000000                5000.0\n",
            "1355        3000.000000                5000.0\n",
            "1358        4000.000000               12500.0\n",
            "1359        3500.000000               10000.0\n",
            "1499        4498.316779                4600.0\n",
            "1512        6000.000000                6000.0\n",
            "1557       10000.000000                9000.0\n",
            "1613        8000.000000                5000.0\n",
            "1711        5000.000000                5000.0\n",
            "1920        4498.316779               20000.0\n",
            "1993        4000.000000                4000.0\n",
            "2010       20000.000000               10000.0\n",
            "2014       15000.000000                4000.0\n",
            "2018       12364.000000                5000.0\n",
            "2041       20000.000000                5000.0\n"
          ]
        }
      ]
    },
    {
      "cell_type": "code",
      "source": [
        "a = df[df['Sektor']=='a. Awam']\n",
        "b = df[df['Sektor']=='b. Swasta']\n",
        "c = df[df['Sektor']=='c. Badan Bukan Kerajaan (NGO)']\n",
        "d = df[df['Sektor']=='d. Tidak Berkenaan']"
      ],
      "metadata": {
        "id": "sMFWtdeMQqtq"
      },
      "execution_count": null,
      "outputs": []
    },
    {
      "cell_type": "code",
      "source": [
        "d.drop(['Sektor'], axis=1)"
      ],
      "metadata": {
        "colab": {
          "base_uri": "https://localhost:8080/",
          "height": 423
        },
        "id": "HI-45DOuo3yZ",
        "outputId": "322f457d-ca73-4c45-c9ea-2e27cef17b72"
      },
      "execution_count": null,
      "outputs": [
        {
          "output_type": "execute_result",
          "data": {
            "text/plain": [
              "        Main\n",
              "6     3500.0\n",
              "7     3000.0\n",
              "12    2500.0\n",
              "20     500.0\n",
              "28       0.0\n",
              "...      ...\n",
              "2051     0.0\n",
              "2052  6000.0\n",
              "2053  1000.0\n",
              "2080  2000.0\n",
              "2091  4000.0\n",
              "\n",
              "[438 rows x 1 columns]"
            ],
            "text/html": [
              "\n",
              "  <div id=\"df-b08f8120-92ba-4bc6-b3fc-bc21bbb77772\" class=\"colab-df-container\">\n",
              "    <div>\n",
              "<style scoped>\n",
              "    .dataframe tbody tr th:only-of-type {\n",
              "        vertical-align: middle;\n",
              "    }\n",
              "\n",
              "    .dataframe tbody tr th {\n",
              "        vertical-align: top;\n",
              "    }\n",
              "\n",
              "    .dataframe thead th {\n",
              "        text-align: right;\n",
              "    }\n",
              "</style>\n",
              "<table border=\"1\" class=\"dataframe\">\n",
              "  <thead>\n",
              "    <tr style=\"text-align: right;\">\n",
              "      <th></th>\n",
              "      <th>Main</th>\n",
              "    </tr>\n",
              "  </thead>\n",
              "  <tbody>\n",
              "    <tr>\n",
              "      <th>6</th>\n",
              "      <td>3500.0</td>\n",
              "    </tr>\n",
              "    <tr>\n",
              "      <th>7</th>\n",
              "      <td>3000.0</td>\n",
              "    </tr>\n",
              "    <tr>\n",
              "      <th>12</th>\n",
              "      <td>2500.0</td>\n",
              "    </tr>\n",
              "    <tr>\n",
              "      <th>20</th>\n",
              "      <td>500.0</td>\n",
              "    </tr>\n",
              "    <tr>\n",
              "      <th>28</th>\n",
              "      <td>0.0</td>\n",
              "    </tr>\n",
              "    <tr>\n",
              "      <th>...</th>\n",
              "      <td>...</td>\n",
              "    </tr>\n",
              "    <tr>\n",
              "      <th>2051</th>\n",
              "      <td>0.0</td>\n",
              "    </tr>\n",
              "    <tr>\n",
              "      <th>2052</th>\n",
              "      <td>6000.0</td>\n",
              "    </tr>\n",
              "    <tr>\n",
              "      <th>2053</th>\n",
              "      <td>1000.0</td>\n",
              "    </tr>\n",
              "    <tr>\n",
              "      <th>2080</th>\n",
              "      <td>2000.0</td>\n",
              "    </tr>\n",
              "    <tr>\n",
              "      <th>2091</th>\n",
              "      <td>4000.0</td>\n",
              "    </tr>\n",
              "  </tbody>\n",
              "</table>\n",
              "<p>438 rows × 1 columns</p>\n",
              "</div>\n",
              "    <div class=\"colab-df-buttons\">\n",
              "\n",
              "  <div class=\"colab-df-container\">\n",
              "    <button class=\"colab-df-convert\" onclick=\"convertToInteractive('df-b08f8120-92ba-4bc6-b3fc-bc21bbb77772')\"\n",
              "            title=\"Convert this dataframe to an interactive table.\"\n",
              "            style=\"display:none;\">\n",
              "\n",
              "  <svg xmlns=\"http://www.w3.org/2000/svg\" height=\"24px\" viewBox=\"0 -960 960 960\">\n",
              "    <path d=\"M120-120v-720h720v720H120Zm60-500h600v-160H180v160Zm220 220h160v-160H400v160Zm0 220h160v-160H400v160ZM180-400h160v-160H180v160Zm440 0h160v-160H620v160ZM180-180h160v-160H180v160Zm440 0h160v-160H620v160Z\"/>\n",
              "  </svg>\n",
              "    </button>\n",
              "\n",
              "  <style>\n",
              "    .colab-df-container {\n",
              "      display:flex;\n",
              "      gap: 12px;\n",
              "    }\n",
              "\n",
              "    .colab-df-convert {\n",
              "      background-color: #E8F0FE;\n",
              "      border: none;\n",
              "      border-radius: 50%;\n",
              "      cursor: pointer;\n",
              "      display: none;\n",
              "      fill: #1967D2;\n",
              "      height: 32px;\n",
              "      padding: 0 0 0 0;\n",
              "      width: 32px;\n",
              "    }\n",
              "\n",
              "    .colab-df-convert:hover {\n",
              "      background-color: #E2EBFA;\n",
              "      box-shadow: 0px 1px 2px rgba(60, 64, 67, 0.3), 0px 1px 3px 1px rgba(60, 64, 67, 0.15);\n",
              "      fill: #174EA6;\n",
              "    }\n",
              "\n",
              "    .colab-df-buttons div {\n",
              "      margin-bottom: 4px;\n",
              "    }\n",
              "\n",
              "    [theme=dark] .colab-df-convert {\n",
              "      background-color: #3B4455;\n",
              "      fill: #D2E3FC;\n",
              "    }\n",
              "\n",
              "    [theme=dark] .colab-df-convert:hover {\n",
              "      background-color: #434B5C;\n",
              "      box-shadow: 0px 1px 3px 1px rgba(0, 0, 0, 0.15);\n",
              "      filter: drop-shadow(0px 1px 2px rgba(0, 0, 0, 0.3));\n",
              "      fill: #FFFFFF;\n",
              "    }\n",
              "  </style>\n",
              "\n",
              "    <script>\n",
              "      const buttonEl =\n",
              "        document.querySelector('#df-b08f8120-92ba-4bc6-b3fc-bc21bbb77772 button.colab-df-convert');\n",
              "      buttonEl.style.display =\n",
              "        google.colab.kernel.accessAllowed ? 'block' : 'none';\n",
              "\n",
              "      async function convertToInteractive(key) {\n",
              "        const element = document.querySelector('#df-b08f8120-92ba-4bc6-b3fc-bc21bbb77772');\n",
              "        const dataTable =\n",
              "          await google.colab.kernel.invokeFunction('convertToInteractive',\n",
              "                                                    [key], {});\n",
              "        if (!dataTable) return;\n",
              "\n",
              "        const docLinkHtml = 'Like what you see? Visit the ' +\n",
              "          '<a target=\"_blank\" href=https://colab.research.google.com/notebooks/data_table.ipynb>data table notebook</a>'\n",
              "          + ' to learn more about interactive tables.';\n",
              "        element.innerHTML = '';\n",
              "        dataTable['output_type'] = 'display_data';\n",
              "        await google.colab.output.renderOutput(dataTable, element);\n",
              "        const docLink = document.createElement('div');\n",
              "        docLink.innerHTML = docLinkHtml;\n",
              "        element.appendChild(docLink);\n",
              "      }\n",
              "    </script>\n",
              "  </div>\n",
              "\n",
              "\n",
              "<div id=\"df-4d4017b3-643e-4382-a61d-217d4dfeae2e\">\n",
              "  <button class=\"colab-df-quickchart\" onclick=\"quickchart('df-4d4017b3-643e-4382-a61d-217d4dfeae2e')\"\n",
              "            title=\"Suggest charts\"\n",
              "            style=\"display:none;\">\n",
              "\n",
              "<svg xmlns=\"http://www.w3.org/2000/svg\" height=\"24px\"viewBox=\"0 0 24 24\"\n",
              "     width=\"24px\">\n",
              "    <g>\n",
              "        <path d=\"M19 3H5c-1.1 0-2 .9-2 2v14c0 1.1.9 2 2 2h14c1.1 0 2-.9 2-2V5c0-1.1-.9-2-2-2zM9 17H7v-7h2v7zm4 0h-2V7h2v10zm4 0h-2v-4h2v4z\"/>\n",
              "    </g>\n",
              "</svg>\n",
              "  </button>\n",
              "\n",
              "<style>\n",
              "  .colab-df-quickchart {\n",
              "      --bg-color: #E8F0FE;\n",
              "      --fill-color: #1967D2;\n",
              "      --hover-bg-color: #E2EBFA;\n",
              "      --hover-fill-color: #174EA6;\n",
              "      --disabled-fill-color: #AAA;\n",
              "      --disabled-bg-color: #DDD;\n",
              "  }\n",
              "\n",
              "  [theme=dark] .colab-df-quickchart {\n",
              "      --bg-color: #3B4455;\n",
              "      --fill-color: #D2E3FC;\n",
              "      --hover-bg-color: #434B5C;\n",
              "      --hover-fill-color: #FFFFFF;\n",
              "      --disabled-bg-color: #3B4455;\n",
              "      --disabled-fill-color: #666;\n",
              "  }\n",
              "\n",
              "  .colab-df-quickchart {\n",
              "    background-color: var(--bg-color);\n",
              "    border: none;\n",
              "    border-radius: 50%;\n",
              "    cursor: pointer;\n",
              "    display: none;\n",
              "    fill: var(--fill-color);\n",
              "    height: 32px;\n",
              "    padding: 0;\n",
              "    width: 32px;\n",
              "  }\n",
              "\n",
              "  .colab-df-quickchart:hover {\n",
              "    background-color: var(--hover-bg-color);\n",
              "    box-shadow: 0 1px 2px rgba(60, 64, 67, 0.3), 0 1px 3px 1px rgba(60, 64, 67, 0.15);\n",
              "    fill: var(--button-hover-fill-color);\n",
              "  }\n",
              "\n",
              "  .colab-df-quickchart-complete:disabled,\n",
              "  .colab-df-quickchart-complete:disabled:hover {\n",
              "    background-color: var(--disabled-bg-color);\n",
              "    fill: var(--disabled-fill-color);\n",
              "    box-shadow: none;\n",
              "  }\n",
              "\n",
              "  .colab-df-spinner {\n",
              "    border: 2px solid var(--fill-color);\n",
              "    border-color: transparent;\n",
              "    border-bottom-color: var(--fill-color);\n",
              "    animation:\n",
              "      spin 1s steps(1) infinite;\n",
              "  }\n",
              "\n",
              "  @keyframes spin {\n",
              "    0% {\n",
              "      border-color: transparent;\n",
              "      border-bottom-color: var(--fill-color);\n",
              "      border-left-color: var(--fill-color);\n",
              "    }\n",
              "    20% {\n",
              "      border-color: transparent;\n",
              "      border-left-color: var(--fill-color);\n",
              "      border-top-color: var(--fill-color);\n",
              "    }\n",
              "    30% {\n",
              "      border-color: transparent;\n",
              "      border-left-color: var(--fill-color);\n",
              "      border-top-color: var(--fill-color);\n",
              "      border-right-color: var(--fill-color);\n",
              "    }\n",
              "    40% {\n",
              "      border-color: transparent;\n",
              "      border-right-color: var(--fill-color);\n",
              "      border-top-color: var(--fill-color);\n",
              "    }\n",
              "    60% {\n",
              "      border-color: transparent;\n",
              "      border-right-color: var(--fill-color);\n",
              "    }\n",
              "    80% {\n",
              "      border-color: transparent;\n",
              "      border-right-color: var(--fill-color);\n",
              "      border-bottom-color: var(--fill-color);\n",
              "    }\n",
              "    90% {\n",
              "      border-color: transparent;\n",
              "      border-bottom-color: var(--fill-color);\n",
              "    }\n",
              "  }\n",
              "</style>\n",
              "\n",
              "  <script>\n",
              "    async function quickchart(key) {\n",
              "      const quickchartButtonEl =\n",
              "        document.querySelector('#' + key + ' button');\n",
              "      quickchartButtonEl.disabled = true;  // To prevent multiple clicks.\n",
              "      quickchartButtonEl.classList.add('colab-df-spinner');\n",
              "      try {\n",
              "        const charts = await google.colab.kernel.invokeFunction(\n",
              "            'suggestCharts', [key], {});\n",
              "      } catch (error) {\n",
              "        console.error('Error during call to suggestCharts:', error);\n",
              "      }\n",
              "      quickchartButtonEl.classList.remove('colab-df-spinner');\n",
              "      quickchartButtonEl.classList.add('colab-df-quickchart-complete');\n",
              "    }\n",
              "    (() => {\n",
              "      let quickchartButtonEl =\n",
              "        document.querySelector('#df-4d4017b3-643e-4382-a61d-217d4dfeae2e button');\n",
              "      quickchartButtonEl.style.display =\n",
              "        google.colab.kernel.accessAllowed ? 'block' : 'none';\n",
              "    })();\n",
              "  </script>\n",
              "</div>\n",
              "    </div>\n",
              "  </div>\n"
            ],
            "application/vnd.google.colaboratory.intrinsic+json": {
              "type": "dataframe",
              "summary": "{\n  \"name\": \"d\",\n  \"rows\": 438,\n  \"fields\": [\n    {\n      \"column\": \"Main\",\n      \"properties\": {\n        \"dtype\": \"number\",\n        \"std\": 1933.3407751532989,\n        \"min\": 0.0,\n        \"max\": 15000.0,\n        \"num_unique_values\": 55,\n        \"samples\": [\n          2457.0,\n          2000.0,\n          3751.0\n        ],\n        \"semantic_type\": \"\",\n        \"description\": \"\"\n      }\n    }\n  ]\n}"
            }
          },
          "metadata": {},
          "execution_count": 38
        }
      ]
    },
    {
      "cell_type": "code",
      "source": [
        "d.to_csv('d.csv',index=False)"
      ],
      "metadata": {
        "id": "m1DYJkB6ntUo"
      },
      "execution_count": null,
      "outputs": []
    },
    {
      "cell_type": "code",
      "source": [
        "print(df.isnull().sum())"
      ],
      "metadata": {
        "colab": {
          "base_uri": "https://localhost:8080/"
        },
        "id": "raj_AsUJUtWI",
        "outputId": "32554d50-9f8a-4080-d641-ad483077cf58"
      },
      "execution_count": null,
      "outputs": [
        {
          "output_type": "stream",
          "name": "stdout",
          "text": [
            "Status Pekerjaan KIR    0\n",
            "Pendapatan utama        0\n",
            "Pendapatan sampingan    0\n",
            "Peruntukan masa         0\n",
            "dtype: int64\n"
          ]
        }
      ]
    },
    {
      "cell_type": "markdown",
      "source": [],
      "metadata": {
        "id": "69TPQQ0mtWMO"
      }
    },
    {
      "cell_type": "code",
      "source": [
        "graph = df['Status Pekerjaan KIR'].value_counts()\n",
        "graph.plot(kind='bar',figsize=(4,4))\n",
        "plt.title('Status Pekerjaan KIR')\n",
        "plt.show()"
      ],
      "metadata": {
        "colab": {
          "base_uri": "https://localhost:8080/",
          "height": 572
        },
        "id": "vQREMvSHmH9-",
        "outputId": "f0772a2d-63b1-4b3e-8b61-8b1a817a2746"
      },
      "execution_count": null,
      "outputs": [
        {
          "output_type": "display_data",
          "data": {
            "text/plain": [
              "<Figure size 400x400 with 1 Axes>"
            ],
            "image/png": "[encoded data removed]"
          },
          "metadata": {}
        }
      ]
    },
    {
      "cell_type": "markdown",
      "source": [
        "Correlation Test"
      ],
      "metadata": {
        "id": "Iss2Xg4D1D_Z"
      }
    },
    {
      "cell_type": "code",
      "source": [
        "import numpy as np\n",
        "import pandas as pd\n",
        "import scipy.stats\n",
        "import matplotlib.pyplot as plt\n",
        "import seaborn as sns\n",
        "data = pd.read_csv('income.csv')"
      ],
      "metadata": {
        "id": "G_8LTXrQ1Dlq"
      },
      "execution_count": null,
      "outputs": []
    },
    {
      "cell_type": "code",
      "source": [
        "data.info()"
      ],
      "metadata": {
        "colab": {
          "base_uri": "https://localhost:8080/"
        },
        "id": "Ybb0nMhJ1DIK",
        "outputId": "08da3de0-0ec8-49d0-f09d-05f7f4f299a2"
      },
      "execution_count": null,
      "outputs": [
        {
          "output_type": "stream",
          "name": "stdout",
          "text": [
            "<class 'pandas.core.frame.DataFrame'>\n",
            "RangeIndex: 2093 entries, 0 to 2092\n",
            "Data columns (total 3 columns):\n",
            " #   Column                                         Non-Null Count  Dtype  \n",
            "---  ------                                         --------------  -----  \n",
            " 0   Faktor Penjanaan Ekonomi                       2093 non-null   float64\n",
            " 1   Pengurusan Masa                                2093 non-null   float64\n",
            " 2   Aktiviti Menjana Pendapatan Kekayaan Keluarga  2093 non-null   float64\n",
            "dtypes: float64(3)\n",
            "memory usage: 49.2 KB\n"
          ]
        }
      ]
    },
    {
      "cell_type": "code",
      "source": [
        "result1 = scipy.stats.spearmanr(data['Faktor Penjanaan Ekonomi'],data['Aktiviti Menjana Pendapatan Kekayaan Keluarga'])\n",
        "result2 = scipy.stats.spearmanr(data['Pengurusan Masa'],data['Aktiviti Menjana Pendapatan Kekayaan Keluarga'])\n",
        "result3= scipy.stats.pearsonr(data['Faktor Penjanaan Ekonomi'],data['Aktiviti Menjana Pendapatan Kekayaan Keluarga'])\n",
        "result4= scipy.stats.pearsonr(data['Pengurusan Masa'],data['Aktiviti Menjana Pendapatan Kekayaan Keluarga'])\n",
        "result5= scipy.stats.pearsonr(data['Faktor Penjanaan Ekonomi'],data['Pengurusan Masa'])\n",
        "result6= scipy.stats.spearmanr(data['Faktor Penjanaan Ekonomi'],data['Pengurusan Masa'])\n",
        "print(result1)\n",
        "print(result2)\n",
        "print(result3)\n",
        "print(result4)\n",
        "print(result5)\n",
        "print(result6)\n",
        "#plt.figure(figsize=(6, 6))\n",
        "#corr_map = sns.heatmap(corr, annot=True)"
      ],
      "metadata": {
        "colab": {
          "base_uri": "https://localhost:8080/"
        },
        "id": "xSU2gVDz16ra",
        "outputId": "7e472bc4-2f9a-4cc4-a25a-ef3ea882197a"
      },
      "execution_count": null,
      "outputs": [
        {
          "output_type": "stream",
          "name": "stdout",
          "text": [
            "SignificanceResult(statistic=0.355241917412794, pvalue=2.739697075553063e-63)\n",
            "SignificanceResult(statistic=0.08735874149660203, pvalue=6.284443943281858e-05)\n",
            "PearsonRResult(statistic=0.396465906153162, pvalue=9.893684316333736e-80)\n",
            "PearsonRResult(statistic=0.10922095395550221, pvalue=5.477340077458578e-07)\n",
            "PearsonRResult(statistic=0.132193344686425, pvalue=1.2727319255355955e-09)\n",
            "SignificanceResult(statistic=0.12887495820319333, pvalue=3.2764929238212406e-09)\n"
          ]
        }
      ]
    },
    {
      "cell_type": "code",
      "source": [
        "print(data.corr(method='spearman'))"
      ],
      "metadata": {
        "id": "wu9BrzNr84jz",
        "outputId": "1e46b621-a10b-4483-b5c5-0da29decd6ae",
        "colab": {
          "base_uri": "https://localhost:8080/"
        }
      },
      "execution_count": null,
      "outputs": [
        {
          "output_type": "stream",
          "name": "stdout",
          "text": [
            "                                               Faktor Penjanaan Ekonomi  \\\n",
            "Faktor Penjanaan Ekonomi                                       1.000000   \n",
            "Pengurusan Masa                                                0.128875   \n",
            "Aktiviti Menjana Pendapatan Kekayaan Keluarga                  0.355242   \n",
            "\n",
            "                                               Pengurusan Masa  \\\n",
            "Faktor Penjanaan Ekonomi                              0.128875   \n",
            "Pengurusan Masa                                       1.000000   \n",
            "Aktiviti Menjana Pendapatan Kekayaan Keluarga         0.087359   \n",
            "\n",
            "                                               Aktiviti Menjana Pendapatan Kekayaan Keluarga  \n",
            "Faktor Penjanaan Ekonomi                                                            0.355242  \n",
            "Pengurusan Masa                                                                     0.087359  \n",
            "Aktiviti Menjana Pendapatan Kekayaan Keluarga                                       1.000000  \n"
          ]
        }
      ]
    }
  ]
}